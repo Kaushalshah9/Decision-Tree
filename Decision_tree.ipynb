{
 "cells": [
  {
   "cell_type": "code",
   "execution_count": 56,
   "metadata": {},
   "outputs": [],
   "source": [
    "import pandas as pd \n",
    "import numpy as np\n",
    "import matplotlib.pyplot as plt\n",
    "import seaborn as sns"
   ]
  },
  {
   "cell_type": "code",
   "execution_count": 57,
   "metadata": {},
   "outputs": [
    {
     "data": {
      "text/html": [
       "<div>\n",
       "<style scoped>\n",
       "    .dataframe tbody tr th:only-of-type {\n",
       "        vertical-align: middle;\n",
       "    }\n",
       "\n",
       "    .dataframe tbody tr th {\n",
       "        vertical-align: top;\n",
       "    }\n",
       "\n",
       "    .dataframe thead th {\n",
       "        text-align: right;\n",
       "    }\n",
       "</style>\n",
       "<table border=\"1\" class=\"dataframe\">\n",
       "  <thead>\n",
       "    <tr style=\"text-align: right;\">\n",
       "      <th></th>\n",
       "      <th>#</th>\n",
       "      <th>Name</th>\n",
       "      <th>Type 1</th>\n",
       "      <th>Type 2</th>\n",
       "      <th>Total</th>\n",
       "      <th>HP</th>\n",
       "      <th>Attack</th>\n",
       "      <th>Defense</th>\n",
       "      <th>Sp. Atk</th>\n",
       "      <th>Sp. Def</th>\n",
       "      <th>Speed</th>\n",
       "      <th>Generation</th>\n",
       "      <th>Legendary</th>\n",
       "    </tr>\n",
       "  </thead>\n",
       "  <tbody>\n",
       "    <tr>\n",
       "      <th>0</th>\n",
       "      <td>1</td>\n",
       "      <td>Bulbasaur</td>\n",
       "      <td>Grass</td>\n",
       "      <td>Poison</td>\n",
       "      <td>318</td>\n",
       "      <td>45</td>\n",
       "      <td>49</td>\n",
       "      <td>49</td>\n",
       "      <td>65</td>\n",
       "      <td>65</td>\n",
       "      <td>45</td>\n",
       "      <td>1</td>\n",
       "      <td>False</td>\n",
       "    </tr>\n",
       "    <tr>\n",
       "      <th>1</th>\n",
       "      <td>2</td>\n",
       "      <td>Ivysaur</td>\n",
       "      <td>Grass</td>\n",
       "      <td>Poison</td>\n",
       "      <td>405</td>\n",
       "      <td>60</td>\n",
       "      <td>62</td>\n",
       "      <td>63</td>\n",
       "      <td>80</td>\n",
       "      <td>80</td>\n",
       "      <td>60</td>\n",
       "      <td>1</td>\n",
       "      <td>False</td>\n",
       "    </tr>\n",
       "    <tr>\n",
       "      <th>2</th>\n",
       "      <td>3</td>\n",
       "      <td>Venusaur</td>\n",
       "      <td>Grass</td>\n",
       "      <td>Poison</td>\n",
       "      <td>525</td>\n",
       "      <td>80</td>\n",
       "      <td>82</td>\n",
       "      <td>83</td>\n",
       "      <td>100</td>\n",
       "      <td>100</td>\n",
       "      <td>80</td>\n",
       "      <td>1</td>\n",
       "      <td>False</td>\n",
       "    </tr>\n",
       "    <tr>\n",
       "      <th>3</th>\n",
       "      <td>3</td>\n",
       "      <td>VenusaurMega Venusaur</td>\n",
       "      <td>Grass</td>\n",
       "      <td>Poison</td>\n",
       "      <td>625</td>\n",
       "      <td>80</td>\n",
       "      <td>100</td>\n",
       "      <td>123</td>\n",
       "      <td>122</td>\n",
       "      <td>120</td>\n",
       "      <td>80</td>\n",
       "      <td>1</td>\n",
       "      <td>False</td>\n",
       "    </tr>\n",
       "    <tr>\n",
       "      <th>4</th>\n",
       "      <td>4</td>\n",
       "      <td>Charmander</td>\n",
       "      <td>Fire</td>\n",
       "      <td>NaN</td>\n",
       "      <td>309</td>\n",
       "      <td>39</td>\n",
       "      <td>52</td>\n",
       "      <td>43</td>\n",
       "      <td>60</td>\n",
       "      <td>50</td>\n",
       "      <td>65</td>\n",
       "      <td>1</td>\n",
       "      <td>False</td>\n",
       "    </tr>\n",
       "  </tbody>\n",
       "</table>\n",
       "</div>"
      ],
      "text/plain": [
       "   #                   Name Type 1  Type 2  Total  HP  Attack  Defense  \\\n",
       "0  1              Bulbasaur  Grass  Poison    318  45      49       49   \n",
       "1  2                Ivysaur  Grass  Poison    405  60      62       63   \n",
       "2  3               Venusaur  Grass  Poison    525  80      82       83   \n",
       "3  3  VenusaurMega Venusaur  Grass  Poison    625  80     100      123   \n",
       "4  4             Charmander   Fire     NaN    309  39      52       43   \n",
       "\n",
       "   Sp. Atk  Sp. Def  Speed  Generation  Legendary  \n",
       "0       65       65     45           1      False  \n",
       "1       80       80     60           1      False  \n",
       "2      100      100     80           1      False  \n",
       "3      122      120     80           1      False  \n",
       "4       60       50     65           1      False  "
      ]
     },
     "execution_count": 57,
     "metadata": {},
     "output_type": "execute_result"
    }
   ],
   "source": [
    "data = pd.read_csv('Pokemon.csv')\n",
    "data.head()"
   ]
  },
  {
   "cell_type": "code",
   "execution_count": 58,
   "metadata": {},
   "outputs": [
    {
     "name": "stdout",
     "output_type": "stream",
     "text": [
      "<class 'pandas.core.frame.DataFrame'>\n",
      "RangeIndex: 800 entries, 0 to 799\n",
      "Data columns (total 13 columns):\n",
      " #   Column      Non-Null Count  Dtype \n",
      "---  ------      --------------  ----- \n",
      " 0   #           800 non-null    int64 \n",
      " 1   Name        800 non-null    object\n",
      " 2   Type 1      800 non-null    object\n",
      " 3   Type 2      414 non-null    object\n",
      " 4   Total       800 non-null    int64 \n",
      " 5   HP          800 non-null    int64 \n",
      " 6   Attack      800 non-null    int64 \n",
      " 7   Defense     800 non-null    int64 \n",
      " 8   Sp. Atk     800 non-null    int64 \n",
      " 9   Sp. Def     800 non-null    int64 \n",
      " 10  Speed       800 non-null    int64 \n",
      " 11  Generation  800 non-null    int64 \n",
      " 12  Legendary   800 non-null    bool  \n",
      "dtypes: bool(1), int64(9), object(3)\n",
      "memory usage: 75.9+ KB\n"
     ]
    }
   ],
   "source": [
    "data.info()"
   ]
  },
  {
   "cell_type": "code",
   "execution_count": 59,
   "metadata": {},
   "outputs": [
    {
     "data": {
      "text/html": [
       "<div>\n",
       "<style scoped>\n",
       "    .dataframe tbody tr th:only-of-type {\n",
       "        vertical-align: middle;\n",
       "    }\n",
       "\n",
       "    .dataframe tbody tr th {\n",
       "        vertical-align: top;\n",
       "    }\n",
       "\n",
       "    .dataframe thead th {\n",
       "        text-align: right;\n",
       "    }\n",
       "</style>\n",
       "<table border=\"1\" class=\"dataframe\">\n",
       "  <thead>\n",
       "    <tr style=\"text-align: right;\">\n",
       "      <th></th>\n",
       "      <th>#</th>\n",
       "      <th>Total</th>\n",
       "      <th>HP</th>\n",
       "      <th>Attack</th>\n",
       "      <th>Defense</th>\n",
       "      <th>Sp. Atk</th>\n",
       "      <th>Sp. Def</th>\n",
       "      <th>Speed</th>\n",
       "      <th>Generation</th>\n",
       "    </tr>\n",
       "  </thead>\n",
       "  <tbody>\n",
       "    <tr>\n",
       "      <th>count</th>\n",
       "      <td>800.000000</td>\n",
       "      <td>800.00000</td>\n",
       "      <td>800.000000</td>\n",
       "      <td>800.000000</td>\n",
       "      <td>800.000000</td>\n",
       "      <td>800.000000</td>\n",
       "      <td>800.000000</td>\n",
       "      <td>800.000000</td>\n",
       "      <td>800.00000</td>\n",
       "    </tr>\n",
       "    <tr>\n",
       "      <th>mean</th>\n",
       "      <td>362.813750</td>\n",
       "      <td>435.10250</td>\n",
       "      <td>69.258750</td>\n",
       "      <td>79.001250</td>\n",
       "      <td>73.842500</td>\n",
       "      <td>72.820000</td>\n",
       "      <td>71.902500</td>\n",
       "      <td>68.277500</td>\n",
       "      <td>3.32375</td>\n",
       "    </tr>\n",
       "    <tr>\n",
       "      <th>std</th>\n",
       "      <td>208.343798</td>\n",
       "      <td>119.96304</td>\n",
       "      <td>25.534669</td>\n",
       "      <td>32.457366</td>\n",
       "      <td>31.183501</td>\n",
       "      <td>32.722294</td>\n",
       "      <td>27.828916</td>\n",
       "      <td>29.060474</td>\n",
       "      <td>1.66129</td>\n",
       "    </tr>\n",
       "    <tr>\n",
       "      <th>min</th>\n",
       "      <td>1.000000</td>\n",
       "      <td>180.00000</td>\n",
       "      <td>1.000000</td>\n",
       "      <td>5.000000</td>\n",
       "      <td>5.000000</td>\n",
       "      <td>10.000000</td>\n",
       "      <td>20.000000</td>\n",
       "      <td>5.000000</td>\n",
       "      <td>1.00000</td>\n",
       "    </tr>\n",
       "    <tr>\n",
       "      <th>25%</th>\n",
       "      <td>184.750000</td>\n",
       "      <td>330.00000</td>\n",
       "      <td>50.000000</td>\n",
       "      <td>55.000000</td>\n",
       "      <td>50.000000</td>\n",
       "      <td>49.750000</td>\n",
       "      <td>50.000000</td>\n",
       "      <td>45.000000</td>\n",
       "      <td>2.00000</td>\n",
       "    </tr>\n",
       "    <tr>\n",
       "      <th>50%</th>\n",
       "      <td>364.500000</td>\n",
       "      <td>450.00000</td>\n",
       "      <td>65.000000</td>\n",
       "      <td>75.000000</td>\n",
       "      <td>70.000000</td>\n",
       "      <td>65.000000</td>\n",
       "      <td>70.000000</td>\n",
       "      <td>65.000000</td>\n",
       "      <td>3.00000</td>\n",
       "    </tr>\n",
       "    <tr>\n",
       "      <th>75%</th>\n",
       "      <td>539.250000</td>\n",
       "      <td>515.00000</td>\n",
       "      <td>80.000000</td>\n",
       "      <td>100.000000</td>\n",
       "      <td>90.000000</td>\n",
       "      <td>95.000000</td>\n",
       "      <td>90.000000</td>\n",
       "      <td>90.000000</td>\n",
       "      <td>5.00000</td>\n",
       "    </tr>\n",
       "    <tr>\n",
       "      <th>max</th>\n",
       "      <td>721.000000</td>\n",
       "      <td>780.00000</td>\n",
       "      <td>255.000000</td>\n",
       "      <td>190.000000</td>\n",
       "      <td>230.000000</td>\n",
       "      <td>194.000000</td>\n",
       "      <td>230.000000</td>\n",
       "      <td>180.000000</td>\n",
       "      <td>6.00000</td>\n",
       "    </tr>\n",
       "  </tbody>\n",
       "</table>\n",
       "</div>"
      ],
      "text/plain": [
       "                #      Total          HP      Attack     Defense     Sp. Atk  \\\n",
       "count  800.000000  800.00000  800.000000  800.000000  800.000000  800.000000   \n",
       "mean   362.813750  435.10250   69.258750   79.001250   73.842500   72.820000   \n",
       "std    208.343798  119.96304   25.534669   32.457366   31.183501   32.722294   \n",
       "min      1.000000  180.00000    1.000000    5.000000    5.000000   10.000000   \n",
       "25%    184.750000  330.00000   50.000000   55.000000   50.000000   49.750000   \n",
       "50%    364.500000  450.00000   65.000000   75.000000   70.000000   65.000000   \n",
       "75%    539.250000  515.00000   80.000000  100.000000   90.000000   95.000000   \n",
       "max    721.000000  780.00000  255.000000  190.000000  230.000000  194.000000   \n",
       "\n",
       "          Sp. Def       Speed  Generation  \n",
       "count  800.000000  800.000000   800.00000  \n",
       "mean    71.902500   68.277500     3.32375  \n",
       "std     27.828916   29.060474     1.66129  \n",
       "min     20.000000    5.000000     1.00000  \n",
       "25%     50.000000   45.000000     2.00000  \n",
       "50%     70.000000   65.000000     3.00000  \n",
       "75%     90.000000   90.000000     5.00000  \n",
       "max    230.000000  180.000000     6.00000  "
      ]
     },
     "execution_count": 59,
     "metadata": {},
     "output_type": "execute_result"
    }
   ],
   "source": [
    "data.describe()"
   ]
  },
  {
   "cell_type": "code",
   "execution_count": 60,
   "metadata": {},
   "outputs": [
    {
     "data": {
      "text/plain": [
       "#               0\n",
       "Name            0\n",
       "Type 1          0\n",
       "Type 2        386\n",
       "Total           0\n",
       "HP              0\n",
       "Attack          0\n",
       "Defense         0\n",
       "Sp. Atk         0\n",
       "Sp. Def         0\n",
       "Speed           0\n",
       "Generation      0\n",
       "Legendary       0\n",
       "dtype: int64"
      ]
     },
     "execution_count": 60,
     "metadata": {},
     "output_type": "execute_result"
    }
   ],
   "source": [
    "data.isna().sum()"
   ]
  },
  {
   "cell_type": "code",
   "execution_count": 64,
   "metadata": {},
   "outputs": [],
   "source": [
    "data.dropna(inplace= True)"
   ]
  },
  {
   "cell_type": "code",
   "execution_count": 65,
   "metadata": {},
   "outputs": [
    {
     "data": {
      "text/plain": [
       "#             0\n",
       "Name          0\n",
       "Type 1        0\n",
       "Type 2        0\n",
       "Total         0\n",
       "HP            0\n",
       "Attack        0\n",
       "Defense       0\n",
       "Sp. Atk       0\n",
       "Sp. Def       0\n",
       "Speed         0\n",
       "Generation    0\n",
       "Legendary     0\n",
       "dtype: int64"
      ]
     },
     "execution_count": 65,
     "metadata": {},
     "output_type": "execute_result"
    }
   ],
   "source": [
    "data.isna().sum()"
   ]
  },
  {
   "cell_type": "code",
   "execution_count": 61,
   "metadata": {},
   "outputs": [
    {
     "data": {
      "text/plain": [
       "165"
      ]
     },
     "execution_count": 61,
     "metadata": {},
     "output_type": "execute_result"
    }
   ],
   "source": [
    "'''1. How many pokemon are from the 5th generation?\n",
    "a. 178\n",
    "b. 165\n",
    "c. 150\n",
    "d. 170'''\n",
    "\n",
    "Gen5 = data[data['Generation'] == 5]\n",
    "Gen5.shape[0]"
   ]
  },
  {
   "cell_type": "code",
   "execution_count": 62,
   "metadata": {},
   "outputs": [
    {
     "data": {
      "text/plain": [
       "3"
      ]
     },
     "execution_count": 62,
     "metadata": {},
     "output_type": "execute_result"
    }
   ],
   "source": [
    "'''2. How many pokemon have the highest defense score?\n",
    "a. 10\n",
    "b. 7\n",
    "c. 3\n",
    "d. 2'''\n",
    "\n",
    "hds = data['Defense'].max()\n",
    "hds_c = data[data['Defense'] == hds]\n",
    "hds_c.shape[0]"
   ]
  },
  {
   "cell_type": "code",
   "execution_count": 63,
   "metadata": {},
   "outputs": [
    {
     "data": {
      "text/plain": [
       "'3. How you will be handling missing values in this dataset:\\na. Fill up the null values with the median.\\nb. Fill up the null values with standard deviation.\\nc. Fill up the null values with the mean.\\nd. Fill up the null values with None.'"
      ]
     },
     "execution_count": 63,
     "metadata": {},
     "output_type": "execute_result"
    }
   ],
   "source": [
    "'''3. How you will be handling missing values in this dataset:\n",
    "a. Fill up the null values with the median.\n",
    "b. Fill up the null values with standard deviation.\n",
    "c. Fill up the null values with the mean.\n",
    "d. Fill up the null values with None.'''\n",
    "\n",
    "\n",
    "\n",
    "\n",
    "#- For categorical variables, treating missing values as a separate category (None) makes sense because missing values \n",
    "#might carry meaningful information or represent a distinct category.\n",
    "#- Filling missing values with the median, standard deviation, or mean doesn't apply to categorical variables.\n",
    "#- None can serve as a placeholder for missing categorical values without introducing bias or affecting the interpretation of the data.\n",
    "\n",
    "#Therefore, option (d) Fill up the null values with None is the suitable choice for handling missing values in this dataset with object datatype."
   ]
  },
  {
   "cell_type": "code",
   "execution_count": 66,
   "metadata": {},
   "outputs": [
    {
     "name": "stdout",
     "output_type": "stream",
     "text": [
      "Columns not having any kind of relationship with the 'Generation' column: ['Total', 'HP', 'Attack', 'Defense', 'Sp. Atk', 'Sp. Def', 'Speed']\n"
     ]
    }
   ],
   "source": [
    "'''4. Which columns are not having any kind of relationship with the generation\n",
    "column?\n",
    "a. Attack\n",
    "b. Speed **ans in quiz**\n",
    "c. Both of the above **Ans**\n",
    "d. None of the above'''\n",
    "\n",
    "\n",
    "# Filter out non-numeric columns\n",
    "numeric_data = data.select_dtypes(include=['int64', 'float64'])\n",
    "\n",
    "# Calculate the correlation matrix\n",
    "correlation_matrix = numeric_data.corr()\n",
    "\n",
    "# Extract the correlation values between 'Generation' column and other columns\n",
    "generation_correlation = correlation_matrix['Generation'].drop('Generation')\n",
    "\n",
    "# Identify columns with correlation close to zero\n",
    "columns_no_relationship = generation_correlation[abs(generation_correlation) < 0.1].index.tolist()\n",
    "\n",
    "# Display the columns that do not have any kind of relationship with the 'Generation' column\n",
    "print(\"Columns not having any kind of relationship with the 'Generation' column:\", columns_no_relationship)\n"
   ]
  },
  {
   "cell_type": "code",
   "execution_count": null,
   "metadata": {},
   "outputs": [],
   "source": [
    "'''5. Which of the following model is the best fit for predicting the legendary of the\n",
    "pokemon based on the below parameters:\n",
    "1. Handle the missing values.\n",
    "2. Split the dataset into a 70:30 ratio with random_state as 1.\n",
    "a. Linear Regression\n",
    "b. Logistic Regression\n",
    "c. Decision Tree Model\n",
    "d. Random Forest Model''' #** all of above is the ans in quiz**\n",
    "\n",
    "\n",
    "\n",
    "#To choose the best model for predicting the legendary status of Pokémon based on the provided parameters, we need to consider \n",
    "#the characteristics of each model and their suitability for the task at hand.\n",
    "\n",
    "#Let's evaluate each option:\n",
    "\n",
    "#a. Linear Regression:\n",
    "#   - Linear regression is not suitable for predicting binary classification outcomes like legendary status (True or False).\n",
    "#   - It's primarily used for predicting continuous outcomes.\n",
    "\n",
    "#b. Logistic Regression:\n",
    "#   - Logistic regression is a common choice for binary classification tasks.\n",
    "#   - It's suitable for predicting binary outcomes, such as whether a Pokémon is legendary or not.\n",
    "#   - It handles missing values well and can be trained on datasets with missing values after proper preprocessing.\n",
    "#   - It's relatively simple and interpretable.\n",
    "\n",
    "#c. Decision Tree Model:\n",
    "#   - Decision trees are versatile and can handle both numerical and categorical data.\n",
    "#   - They handle missing values by default by considering them during the splitting process.\n",
    "#   - They're interpretable and can capture non-linear relationships between features and the target variable.\n",
    "#   - They're prone to overfitting, especially on complex datasets.\n",
    "\n",
    "#d. Random Forest Model:\n",
    "#   - Random forests are an ensemble learning method based on decision trees.\n",
    "#   - They handle missing values similar to decision trees and are robust to overfitting.\n",
    "#   - They often provide better performance compared to individual decision trees by reducing variance.\n",
    "#   - They can handle both numerical and categorical data.\n",
    "\n",
    "#Given these considerations, the most suitable option for predicting the legendary status of Pokémon based on the provided parameters would be:\n",
    "\n",
    "#d. Random Forest Model\n",
    "\n",
    "#Random forests can handle missing values, are robust to overfitting, and provide good performance for binary classification \n",
    "#tasks like predicting legendary status. Additionally, splitting the dataset into a 70:30 ratio with a random state of 1 is \n",
    "#feasible for training a random forest model.\n",
    "\n",
    "#So, the correct answer is d. Random Forest Model."
   ]
  },
  {
   "cell_type": "code",
   "execution_count": 73,
   "metadata": {},
   "outputs": [
    {
     "name": "stdout",
     "output_type": "stream",
     "text": [
      "X_train shape: (331, 10)\n",
      "X_test shape: (83, 10)\n",
      "y_train shape: (331,)\n",
      "y_test shape: (83,)\n"
     ]
    }
   ],
   "source": [
    "from sklearn.model_selection import train_test_split\n",
    "from sklearn.preprocessing import LabelEncoder\n",
    "\n",
    "# Encode categorical variables\n",
    "label_encoder = LabelEncoder()\n",
    "data['Type 1'] = label_encoder.fit_transform(data['Type 1'])\n",
    "data['Type 2'] = label_encoder.fit_transform(data['Type 2'])\n",
    "data['Legendary'] = label_encoder.fit_transform(data['Legendary'])\n",
    "\n",
    "# Select features and target variable\n",
    "X = data.drop(['#', 'Name', 'Legendary'], axis=1)\n",
    "y = data['Legendary']\n",
    "\n",
    "# Split the data into training and testing sets\n",
    "X_train, X_test, y_train, y_test = train_test_split(X, y, test_size=0.2, random_state=42)\n",
    "\n",
    "# Display the shapes of the training and testing sets\n",
    "print(\"X_train shape:\", X_train.shape)\n",
    "print(\"X_test shape:\", X_test.shape)\n",
    "print(\"y_train shape:\", y_train.shape)\n",
    "print(\"y_test shape:\", y_test.shape)\n"
   ]
  },
  {
   "cell_type": "code",
   "execution_count": 74,
   "metadata": {},
   "outputs": [
    {
     "name": "stdout",
     "output_type": "stream",
     "text": [
      "Accuracy: 0.963855421686747\n",
      "              precision    recall  f1-score   support\n",
      "\n",
      "           0       0.99      0.97      0.98        74\n",
      "           1       0.80      0.89      0.84         9\n",
      "\n",
      "    accuracy                           0.96        83\n",
      "   macro avg       0.89      0.93      0.91        83\n",
      "weighted avg       0.97      0.96      0.96        83\n",
      "\n"
     ]
    }
   ],
   "source": [
    "from sklearn.tree import DecisionTreeClassifier\n",
    "from sklearn.metrics import accuracy_score, classification_report\n",
    "\n",
    "# Initialize the decision tree classifier\n",
    "clf = DecisionTreeClassifier(random_state=42)\n",
    "\n",
    "# Train the classifier\n",
    "clf.fit(X_train, y_train)\n",
    "\n",
    "# Make predictions on the testing set\n",
    "y_pred = clf.predict(X_test)\n",
    "\n",
    "# Evaluate the model\n",
    "accuracy = accuracy_score(y_test, y_pred)\n",
    "print(\"Accuracy:\", accuracy)\n",
    "\n",
    "# Display classification report\n",
    "print(classification_report(y_test, y_pred))\n"
   ]
  },
  {
   "cell_type": "code",
   "execution_count": 75,
   "metadata": {},
   "outputs": [
    {
     "name": "stdout",
     "output_type": "stream",
     "text": [
      "The precision of the Decision Tree model when the target is False is between 0.90 to 1.0\n"
     ]
    }
   ],
   "source": [
    "'''6. What is the precision of the Decision Tree model when the target is False?\n",
    "a. 0.90 to 0.1\n",
    "b. 0.80 to 0.90\n",
    "c. 1.0 to 2.0\n",
    "d. 0.50 to 0.60'''\n",
    "\n",
    "from sklearn.metrics import precision_score\n",
    "\n",
    "# Assuming y_test contains the true labels and y_pred contains the predicted labels\n",
    "# Calculate precision for the False class\n",
    "precision_false = precision_score(y_test, y_pred, pos_label=False)\n",
    "\n",
    "# Determine the correct answer based on the precision value\n",
    "if 0.90 <= precision_false <= 1.0:\n",
    "    print(\"The precision of the Decision Tree model when the target is False is between 0.90 to 1.0\")\n",
    "elif 0.80 <= precision_false < 0.90:\n",
    "    print(\"The precision of the Decision Tree model when the target is False is between 0.80 to 0.90\")\n",
    "elif 1.0 <= precision_false <= 2.0:\n",
    "    print(\"The precision of the Decision Tree model when the target is False is between 1.0 to 2.0\")\n",
    "elif 0.50 <= precision_false < 0.60:\n",
    "    print(\"The precision of the Decision Tree model when the target is False is between 0.50 to 0.60\")\n",
    "else:\n",
    "    print(\"The precision of the Decision Tree model when the target is False does not match any provided range\")\n"
   ]
  },
  {
   "cell_type": "code",
   "execution_count": 76,
   "metadata": {},
   "outputs": [
    {
     "name": "stdout",
     "output_type": "stream",
     "text": [
      "The sensitivity of the model when the target is True does not match any provided range\n"
     ]
    }
   ],
   "source": [
    "'''7. What is the sensitivity of the above model when the target is True?\n",
    "a. 0.90 to 1.0\n",
    "b. 0.50 to 0.60\n",
    "c. 0.60 to 0.70  **ans in quiz**\n",
    "d. 0.30 to 0.40'''\n",
    "\n",
    "from sklearn.metrics import recall_score\n",
    "\n",
    "# Assuming y_test contains the true labels and y_pred contains the predicted labels\n",
    "# Calculate sensitivity for the True class\n",
    "sensitivity_true = recall_score(y_test, y_pred, pos_label=True)\n",
    "\n",
    "# Determine the correct answer based on the sensitivity value\n",
    "if 0.90 <= sensitivity_true <= 1.0:\n",
    "    print(\"The sensitivity of the model when the target is True is between 0.90 to 1.0\")\n",
    "elif 0.60 <= sensitivity_true < 0.70:\n",
    "    print(\"The sensitivity of the model when the target is True is between 0.60 to 0.70\")\n",
    "elif 0.50 <= sensitivity_true < 0.60:\n",
    "    print(\"The sensitivity of the model when the target is True is between 0.50 to 0.60\")\n",
    "elif 0.30 <= sensitivity_true < 0.40:\n",
    "    print(\"The sensitivity of the model when the target is True is between 0.30 to 0.40\")\n",
    "else:\n",
    "    print(\"The sensitivity of the model when the target is True does not match any provided range\")\n"
   ]
  },
  {
   "cell_type": "code",
   "execution_count": 77,
   "metadata": {},
   "outputs": [
    {
     "name": "stdout",
     "output_type": "stream",
     "text": [
      "Between 7 to 10 data points have been correctly classified\n"
     ]
    }
   ],
   "source": [
    "'''8. How much correctly classified data has been retrieved from the above model?\n",
    "a. Between 15 to 20  **ans in qiuz**\n",
    "b. Between 7 to 10\n",
    "c. Between 30 to 45\n",
    "d. Between 50 to 70'''\n",
    "\n",
    "from sklearn.metrics import confusion_matrix\n",
    "\n",
    "# Assuming y_test contains the true labels and y_pred contains the predicted labels\n",
    "# Compute the confusion matrix\n",
    "conf_matrix = confusion_matrix(y_test, y_pred)\n",
    "\n",
    "# Extract true positives from the confusion matrix\n",
    "true_positives = conf_matrix[1, 1]  # Row 1 (True label) and Column 1 (Predicted label)\n",
    "\n",
    "# Determine the correct answer based on the number of true positives\n",
    "if 15 <= true_positives <= 20:\n",
    "    print(\"Between 15 to 20 data points have been correctly classified\")\n",
    "elif 7 <= true_positives <= 10:\n",
    "    print(\"Between 7 to 10 data points have been correctly classified\")\n",
    "elif 30 <= true_positives <= 45:\n",
    "    print(\"Between 30 to 45 data points have been correctly classified\")\n",
    "elif 50 <= true_positives <= 70:\n",
    "    print(\"Between 50 to 70 data points have been correctly classified\")\n",
    "else:\n",
    "    print(\"The number of correctly classified data points does not match any provided range\")\n"
   ]
  },
  {
   "cell_type": "code",
   "execution_count": null,
   "metadata": {},
   "outputs": [],
   "source": [
    "'''9. Decision tree models might create some biased trees if some classes\n",
    "dominate. From the below options which action is best to take so that it\n",
    "won't create biased trees:\n",
    "a. balance the dataset prior to fitting\n",
    "b. imbalance the dataset prior to fitting\n",
    "c. balance the dataset after fitting\n",
    "d. None of the above'''\n",
    "\n",
    "#To prevent decision tree models from creating biased trees when certain classes dominate, \n",
    "#the best action is to balance the dataset prior to fitting the model. \n",
    "#This ensures that each class is represented adequately during training, allowing the model to learn from all classes equally.\n",
    "\n",
    "#Therefore, the correct answer is:\n",
    "\n",
    "#a. balance the dataset prior to fitting"
   ]
  },
  {
   "cell_type": "code",
   "execution_count": null,
   "metadata": {},
   "outputs": [],
   "source": [
    "'''10.Suppose, you have to work with an ML problem, where you have to predict\n",
    "the number of oxygen tanks needed to be shipped from Indonesia. Which\n",
    "of the following ML algorithm you will choose:\n",
    "a. Logistic regression\n",
    "b. Decision Tree\n",
    "c. Both of the above\n",
    "d. None of the above'''\n",
    "\n",
    "\n",
    "#The specific task of predicting the number of oxygen tanks needed to be shipped from Indonesia, \n",
    "#it's more likely that a regression model would be appropriate. Logistic regression is primarily \n",
    "#used for binary classification tasks, while the problem described involves predicting a continuous variable \n",
    "#(the number of oxygen tanks), making it a regression problem.\n",
    "\n",
    "#Therefore, the most appropriate choice would be:\n",
    "\n",
    "#b. Decision Tree (for regression)\n",
    "\n",
    "#Decision trees can handle regression tasks effectively, making them a suitable choice for predicting \n",
    "#continuous variables like the number of oxygen tanks needed."
   ]
  },
  {
   "cell_type": "code",
   "execution_count": null,
   "metadata": {},
   "outputs": [],
   "source": [
    "'''11.Which of the following is true for the Decision Tree?\n",
    "a. The model can able to generate understandable rules\n",
    "b. The model can able to handle both continuous and categorical\n",
    "variables\n",
    "c. It can able to perform classification without requiring much computation\n",
    "d. All of the above'''\n",
    "\n",
    "\n",
    "#The Decision Tree algorithm offers several advantages, making it a popular choice in machine learning. Let's analyze each statement:\n",
    "\n",
    "#a. The model can able to generate understandable rules: True. Decision trees are interpretable models that generate rules\n",
    "#based on the features' values, making them easy to understand and interpret, even for non-technical users.\n",
    "\n",
    "#b. The model can able to handle both continuous and categorical variables: True. Decision trees can handle both continuous and \n",
    "#categorical variables effectively. They recursively split the dataset based on the feature values, making them suitable for various types of data.\n",
    "\n",
    "#c. It can able to perform classification without requiring much computation: True. Decision trees are relatively fast to train and \n",
    "#can perform classification tasks efficiently, especially for smaller datasets. They do not require complex computations compared to \n",
    "#some other algorithms.\n",
    "\n",
    "#Based on the analysis, the correct answer is:\n",
    "\n",
    "#d. All of the above"
   ]
  },
  {
   "cell_type": "code",
   "execution_count": null,
   "metadata": {},
   "outputs": [],
   "source": [
    "'''12.The total gain is computed by adding the expected value of each\n",
    "outcome and deducting the costs associated with the decision.\n",
    "a. True\n",
    "b. False'''\n",
    "\n",
    "\n",
    "#true is ans in quiz\n",
    "\n",
    "#The statement is false. \n",
    "\n",
    "#Total gain in decision trees, also known as information gain, is not computed by adding the expected value of each outcome \n",
    "#and deducting the costs associated with the decision. Instead, information gain is calculated based on the reduction \n",
    "#in uncertainty or entropy before and after a decision split. \n",
    "#It helps in selecting the best attribute to split on at each node of the decision tree."
   ]
  },
  {
   "cell_type": "code",
   "execution_count": null,
   "metadata": {},
   "outputs": [],
   "source": [
    "'''13.How we can avoid the overfitting in Decision Tree\n",
    "a. Stopping the Tree Growth\n",
    "b. Pruning the Full Grown Tree\n",
    "c. Both of above\n",
    "d. None of the Above'''\n",
    "\n",
    "\n",
    "\n",
    "#c. Both of the above\n",
    "\n",
    "#Both stopping the tree growth early (stopping criterion) and pruning the fully grown tree are techniques used to avoid overfitting \n",
    "#in decision trees.\n",
    "\n",
    "#Stopping the tree growth early involves setting criteria to stop the tree from further splitting nodes, such as limiting \n",
    "#the maximum depth of the tree, requiring a minimum number of samples to split a node, or setting a threshold for the minimum decrease in impurity.\n",
    "\n",
    "#Pruning the fully grown tree involves removing branches from the tree that do not provide significant improvements in predictive accuracy. \n",
    "#This helps to simplify the model and reduce overfitting by preventing the tree from capturing noise in the training data.\n",
    "\n",
    "#Using both of these techniques together can help create a decision tree model that generalizes well to unseen data and avoids overfitting."
   ]
  },
  {
   "cell_type": "code",
   "execution_count": null,
   "metadata": {},
   "outputs": [],
   "source": []
  }
 ],
 "metadata": {
  "kernelspec": {
   "display_name": "Python 3",
   "language": "python",
   "name": "python3"
  },
  "language_info": {
   "codemirror_mode": {
    "name": "ipython",
    "version": 3
   },
   "file_extension": ".py",
   "mimetype": "text/x-python",
   "name": "python",
   "nbconvert_exporter": "python",
   "pygments_lexer": "ipython3",
   "version": "3.11.3"
  }
 },
 "nbformat": 4,
 "nbformat_minor": 2
}
